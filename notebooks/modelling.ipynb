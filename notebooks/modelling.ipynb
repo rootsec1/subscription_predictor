{
 "cells": [
  {
   "cell_type": "code",
   "execution_count": 1,
   "metadata": {},
   "outputs": [],
   "source": [
    "import pandas as pd\n",
    "from sklearn.model_selection import train_test_split\n",
    "from sklearn.ensemble import RandomForestClassifier\n",
    "from sklearn.metrics import accuracy_score, roc_auc_score\n",
    "from sklearn.preprocessing import LabelEncoder"
   ]
  },
  {
   "cell_type": "code",
   "execution_count": 2,
   "metadata": {},
   "outputs": [],
   "source": [
    "le = LabelEncoder()"
   ]
  },
  {
   "cell_type": "code",
   "execution_count": 3,
   "metadata": {},
   "outputs": [],
   "source": [
    "# Load dataset\n",
    "accounts_df = pd.read_csv(\"../data/features/account.csv\", encoding=\"latin-1\")\n",
    "concerts_new_df = pd.read_csv(\"../data/features/concerts_2014-15.csv\")\n",
    "concerts_old_df = pd.read_csv(\"../data/features/concerts.csv\")\n",
    "subscriptions_df = pd.read_csv(\"../data/features/subscriptions.csv\")\n",
    "test_df = pd.read_csv(\"../data/features/test.csv\")\n",
    "tickets_df = pd.read_csv(\"../data/features/tickets_all.csv\")\n",
    "train_df = pd.read_csv(\"../data/features/train.csv\")\n",
    "zipcodes_df = pd.read_csv(\"../data/features/zipcodes.csv\")"
   ]
  },
  {
   "cell_type": "code",
   "execution_count": 4,
   "metadata": {},
   "outputs": [
    {
     "name": "stdout",
     "output_type": "stream",
     "text": [
      "ACC: 0.9817658349328215\n",
      "AUC: 0.9724844599844601\n"
     ]
    }
   ],
   "source": [
    "# Remove unnecessary columns and fill NaN values with 0\n",
    "columns_to_drop = [\"shipping.zip.code\", \"shipping.city\", \"relationship\", \"first.donated\"]\n",
    "accounts_df.drop(columns=columns_to_drop, inplace=True)\n",
    "accounts_df.fillna(0, inplace=True)\n",
    "\n",
    "# Calculate the number of subscriptions per account\n",
    "subscriptions_df[\"num_subscriptions\"] = subscriptions_df.groupby(\"account.id\")[\"account.id\"].transform(\"count\")\n",
    "subscriptions_df = subscriptions_df[[\"account.id\", \"package\", \"price.level\", \"subscription_tier\", \"num_subscriptions\"]]\n",
    "\n",
    "# Merge accounts and subscriptions data\n",
    "final_df = accounts_df.merge(subscriptions_df, on=\"account.id\", how=\"left\")\n",
    "final_df = final_df.drop_duplicates(subset=[\"account.id\"])\n",
    "final_df.fillna(0, inplace=True)\n",
    "\n",
    "# Encode account IDs\n",
    "final_df[\"account_encoded.id\"] = le.fit_transform(final_df[\"account.id\"])\n",
    "final_train_df = train_df.merge(final_df, on=\"account.id\", how=\"left\")\n",
    "\n",
    "# Prepare data for training and validation\n",
    "y = final_train_df[\"label\"]\n",
    "X = final_train_df.drop(columns=[\"account.id\", \"label\", \"billing.zip.code\", \"billing.city\", \"package\"])\n",
    "X_train, X_val, y_train, y_val = train_test_split(X, y, test_size=0.15, random_state=0)\n",
    "\n",
    "# Train a Random Forest Classifier\n",
    "model = RandomForestClassifier()\n",
    "model.fit(X_train, y_train)\n",
    "\n",
    "# Predict probabilities and calculate accuracy and AUC\n",
    "probs = model.predict_proba(X_val)[:, 1]\n",
    "acc = accuracy_score(y_val, model.predict(X_val))\n",
    "auc = roc_auc_score(y_val, probs)\n",
    "\n",
    "# Print results\n",
    "print(\"ACC: \" + str(acc))\n",
    "print(\"AUC: \" + str(auc))"
   ]
  },
  {
   "cell_type": "markdown",
   "metadata": {},
   "source": []
  },
  {
   "cell_type": "code",
   "execution_count": 5,
   "metadata": {},
   "outputs": [
    {
     "data": {
      "text/html": [
       "<div>\n",
       "<style scoped>\n",
       "    .dataframe tbody tr th:only-of-type {\n",
       "        vertical-align: middle;\n",
       "    }\n",
       "\n",
       "    .dataframe tbody tr th {\n",
       "        vertical-align: top;\n",
       "    }\n",
       "\n",
       "    .dataframe thead th {\n",
       "        text-align: right;\n",
       "    }\n",
       "</style>\n",
       "<table border=\"1\" class=\"dataframe\">\n",
       "  <thead>\n",
       "    <tr style=\"text-align: right;\">\n",
       "      <th></th>\n",
       "      <th>ID</th>\n",
       "      <th>Predicted</th>\n",
       "    </tr>\n",
       "  </thead>\n",
       "  <tbody>\n",
       "    <tr>\n",
       "      <th>0</th>\n",
       "      <td>001i000000NuQ6Y</td>\n",
       "      <td>0.02</td>\n",
       "    </tr>\n",
       "    <tr>\n",
       "      <th>1</th>\n",
       "      <td>001i000000NuQXz</td>\n",
       "      <td>0.19</td>\n",
       "    </tr>\n",
       "    <tr>\n",
       "      <th>2</th>\n",
       "      <td>001i000000NuRDC</td>\n",
       "      <td>0.00</td>\n",
       "    </tr>\n",
       "    <tr>\n",
       "      <th>3</th>\n",
       "      <td>001i000000NuQeg</td>\n",
       "      <td>0.20</td>\n",
       "    </tr>\n",
       "    <tr>\n",
       "      <th>4</th>\n",
       "      <td>001i000000NuOQc</td>\n",
       "      <td>0.01</td>\n",
       "    </tr>\n",
       "  </tbody>\n",
       "</table>\n",
       "</div>"
      ],
      "text/plain": [
       "                ID  Predicted\n",
       "0  001i000000NuQ6Y       0.02\n",
       "1  001i000000NuQXz       0.19\n",
       "2  001i000000NuRDC       0.00\n",
       "3  001i000000NuQeg       0.20\n",
       "4  001i000000NuOQc       0.01"
      ]
     },
     "metadata": {},
     "output_type": "display_data"
    }
   ],
   "source": [
    "# Merge test_df with final_df\n",
    "final_test_df = test_df.merge(final_df, left_on=\"ID\", right_on=\"account.id\", how=\"left\")\n",
    "\n",
    "# Drop unnecessary columns\n",
    "X_final_test = final_test_df.drop(columns=[\"ID\", \"account.id\", \"billing.zip.code\", \"billing.city\", \"package\"])\n",
    "\n",
    "# Predict using the model\n",
    "test_probs = model.predict_proba(X_final_test)[:, 1]\n",
    "\n",
    "# Create and display the submission dataframe\n",
    "submission_df = pd.DataFrame({\"ID\": test_df[\"ID\"], \"Predicted\": test_probs})\n",
    "display(submission_df.head())\n",
    "\n",
    "# Save submission to a CSV file\n",
    "submission_df.to_csv(\"../submissions/submission.csv\", index=False)"
   ]
  }
 ],
 "metadata": {
  "kernelspec": {
   "display_name": "Python 3",
   "language": "python",
   "name": "python3"
  },
  "language_info": {
   "codemirror_mode": {
    "name": "ipython",
    "version": 3
   },
   "file_extension": ".py",
   "mimetype": "text/x-python",
   "name": "python",
   "nbconvert_exporter": "python",
   "pygments_lexer": "ipython3",
   "version": "3.9.6"
  }
 },
 "nbformat": 4,
 "nbformat_minor": 2
}
